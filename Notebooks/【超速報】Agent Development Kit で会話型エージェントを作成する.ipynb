{
 "cells": [
  {
   "cell_type": "code",
   "execution_count": null,
   "id": "f166bb19-8d5e-401f-a84c-cc24f9429ff8",
   "metadata": {
    "tags": []
   },
   "outputs": [],
   "source": [
    "# https://zenn.dev/google_cloud_jp/articles/1b1cbd5318bdfe\n",
    "# 【超速報】Agent Development Kit で会話型エージェントを作成する\n",
    "# 20250608 : ADK Version 1.2.1\n",
    "\n",
    "%pip install --upgrade --user \\\n",
    "    google-adk==1.2.1 \\\n",
    "    google-cloud-aiplatform==1.96.0"
   ]
  },
  {
   "cell_type": "code",
   "execution_count": null,
   "id": "e7037f57-7048-407e-bfaa-6978731d1f32",
   "metadata": {},
   "outputs": [],
   "source": [
    "# 事前準備 @cloud shell\n",
    "\n",
    "# gcloud services enable \\\n",
    "#   aiplatform.googleapis.com \\\n",
    "#   notebooks.googleapis.com \\\n",
    "#   cloudresourcemanager.googleapis.com\n",
    "\n",
    "# Create Workbench instance\n",
    "# PROJECT_ID=$(gcloud config list --format 'value(core.project)')\n",
    "# gcloud workbench instances create agent-development \\\n",
    "#   --project=$PROJECT_ID \\\n",
    "#   --location=us-central1-a \\\n",
    "#   --machine-type=e2-standard-2\n"
   ]
  },
  {
   "cell_type": "code",
   "execution_count": null,
   "id": "a5c2bb44-9fe1-494c-919e-30482ce66ba5",
   "metadata": {
    "tags": []
   },
   "outputs": [],
   "source": [
    "# https://zenn.dev/google_cloud_jp/articles/1b1cbd5318bdfe\n",
    "# 【超速報】Agent Development Kit で会話型エージェントを作成する\n",
    "# 20250608 : ADK Version 1.2.1\n",
    "\n",
    "%pip install --upgrade --user \\\n",
    "    google-adk==1.2.1 \\\n",
    "    google-cloud-aiplatform==1.96.0"
   ]
  },
  {
   "cell_type": "code",
   "execution_count": null,
   "id": "884f3967-a011-4acd-a8e8-0d608140bc74",
   "metadata": {
    "tags": []
   },
   "outputs": [],
   "source": [
    "import IPython\n",
    "app = IPython.Application.instance()\n",
    "_ = app.kernel.do_shutdown(True)"
   ]
  },
  {
   "cell_type": "code",
   "execution_count": null,
   "id": "86194f6a-16db-4937-b0ad-6cb3a3ff9757",
   "metadata": {
    "tags": []
   },
   "outputs": [],
   "source": [
    "import json, os, pprint, time, uuid\n",
    "import vertexai\n",
    "from google import genai\n",
    "from google.genai.types import (\n",
    "    HttpOptions, GenerateContentConfig, Part, Content\n",
    ")\n",
    "\n",
    "[PROJECT_ID] = !gcloud config list --format 'value(core.project)'\n",
    "LOCATION = 'us-central1'\n",
    "\n",
    "vertexai.init(\n",
    "    project=PROJECT_ID,\n",
    "    location=LOCATION,\n",
    "    staging_bucket=f'gs://{PROJECT_ID}'\n",
    ")\n",
    "\n",
    "os.environ['GOOGLE_CLOUD_PROJECT'] = PROJECT_ID\n",
    "os.environ['GOOGLE_CLOUD_LOCATION'] = LOCATION\n",
    "os.environ['GOOGLE_GENAI_USE_VERTEXAI'] = 'True'"
   ]
  },
  {
   "cell_type": "code",
   "execution_count": null,
   "id": "8215861c-47b1-41a2-aacc-0683ef8d5d33",
   "metadata": {
    "tags": []
   },
   "outputs": [],
   "source": [
    "def generate_response(system_instruction, contents,\n",
    "                      response_schema, model='gemini-2.0-flash-001'):\n",
    "    client = genai.Client(vertexai=True,\n",
    "                          project=PROJECT_ID, location=LOCATION,\n",
    "                          http_options=HttpOptions(api_version='v1'))\n",
    "    response = client.models.generate_content(\n",
    "        model=model,\n",
    "        contents=contents,\n",
    "        config=GenerateContentConfig(\n",
    "            system_instruction=system_instruction,\n",
    "            temperature=0.4,\n",
    "            response_mime_type='application/json',\n",
    "            response_schema=response_schema,\n",
    "        )\n",
    "    )\n",
    "    return '\\n'.join(\n",
    "        [p.text for p in response.candidates[0].content.parts if p.text]\n",
    "    )"
   ]
  },
  {
   "cell_type": "code",
   "execution_count": null,
   "id": "39bf9ce1-22a2-4b5c-b969-a928eccd42dd",
   "metadata": {
    "tags": []
   },
   "outputs": [],
   "source": [
    "response_schema = {\n",
    "    \"type\": \"object\",\n",
    "    \"properties\": {\n",
    "        \"greeting\": {\"type\": \"string\"},\n",
    "        },\n",
    "    \"required\": [\"greeting\"],\n",
    "}\n",
    "system_instruction = '''\n",
    "ネットショップの仮想店員として、丁寧で、かつ、フレンドリーな雰囲気の挨拶を返してください。\n",
    "架空の商品名などは含めないこと。\n",
    "'''\n",
    "contents = 'こんにちは、中井です。何か、おすすめはありますか？'\n",
    "\n",
    "print(generate_response(system_instruction, contents, response_schema))"
   ]
  },
  {
   "cell_type": "code",
   "execution_count": null,
   "id": "77ea3ba8-4288-49df-9404-906532f79e6a",
   "metadata": {
    "tags": []
   },
   "outputs": [],
   "source": [
    "def _generate_plan(goal):\n",
    "    system_instruction = '''\n",
    "You are a professional event planner. Work on the following tasks.\n",
    "\n",
    "[task]\n",
    "A. generate event contents to achieve the given [goal].\n",
    "\n",
    "[format instruction]\n",
    "In Japanese. No markdowns. The output has the following three items:\n",
    "\"title\": a short title of the event\n",
    "\"summary\": three sentence summary of the event\n",
    "\"timeline\": timeline of the event such as durations and contents in a bullet list\n",
    "'''\n",
    "\n",
    "    response_schema = {\n",
    "        \"type\": \"object\",\n",
    "        \"properties\": {\n",
    "            \"title\": {\"type\": \"string\"},\n",
    "            \"summary\": {\"type\": \"string\"},\n",
    "            \"timeline\":  {\"type\": \"string\"},\n",
    "        },\n",
    "        \"required\": [\"title\", \"summary\", \"timeline\"],\n",
    "    }\n",
    "\n",
    "    parts = []\n",
    "    parts.append(Part.from_text(text=f'[goal]\\n{goal}'))\n",
    "    contents=[Content(role='user', parts=parts)]\n",
    "    return generate_response(system_instruction, contents, response_schema)\n",
    "\n",
    "\n",
    "def generate_plan(goal:str) -> dict:\n",
    "    \"\"\"\n",
    "    Create an initial plan to achieve the goal.\n",
    "   \n",
    "    Args:\n",
    "        goal: The goal of the event.\n",
    "       \n",
    "    Returns:\n",
    "        dict: A dictionary containing the plan with the following keys:\n",
    "            title: title of the event\n",
    "            summary: a short summary of the event\n",
    "            timeline: timeline of the event\n",
    "    \"\"\"\n",
    "    response = _generate_plan(goal)\n",
    "    return json.loads(response)"
   ]
  },
  {
   "cell_type": "code",
   "execution_count": null,
   "id": "32bbaaf5-81a2-42a2-947a-2e1eb8c5d598",
   "metadata": {
    "tags": []
   },
   "outputs": [],
   "source": [
    "def _update_plan(goal, plan, evaluation):\n",
    "    system_instruction = '''\n",
    "You are a professional event planner. Work on the following tasks.\n",
    "\n",
    "[task]\n",
    "A. given [goal] and current [plan] for event contents.\n",
    "   Generate an improved plan based on the given [evaluation].\n",
    "\n",
    "[format instruction]\n",
    "In Japanese. No markdowns. The output has the following three items:\n",
    "\"title\": a short title of the event\n",
    "\"summary\": three sentence summary of the event\n",
    "\"timeline\": timeline of the event such as durations and contents in a bullet list\n",
    "\"update: one sentence summary of the update from the previous plan\n",
    "'''\n",
    "\n",
    "    response_schema = {\n",
    "        \"type\": \"object\",\n",
    "        \"properties\": {\n",
    "            \"title\": {\"type\": \"string\"},\n",
    "            \"summary\": {\"type\": \"string\"},\n",
    "            \"timeline\":  {\"type\": \"string\"},\n",
    "            \"update\": {\"type\": \"string\"},\n",
    "        },\n",
    "        \"required\": [\"title\", \"summary\", \"timeline\", \"update\"],\n",
    "    }\n",
    "\n",
    "    parts = []\n",
    "    parts.append(Part.from_text(text=f'[goal]\\n{goal}'))\n",
    "    parts.append(Part.from_text(text=f'[plan]\\n{plan}'))\n",
    "    parts.append(Part.from_text(text=f'[evaluation]\\n{evaluation}'))\n",
    "    contents=[Content(role='user', parts=parts)]\n",
    "    return generate_response(system_instruction, contents, response_schema)\n",
    "\n",
    "\n",
    "def update_plan(goal:str, plan:str, evaluation:str) -> dict:\n",
    "    \"\"\"\n",
    "    Create an updated plan to achieve the goal given the current plan and an evaluation comment.\n",
    "\n",
    "    Args:\n",
    "        goal: The goal of the event\n",
    "        plan: Current plan\n",
    "        evaluation: Evaluation comment in plain text or a JSON string\n",
    "       \n",
    "    Returns:\n",
    "        dict: A dictionary containing the plan with the following keys:\n",
    "            title: title of the event\n",
    "            summary: a short summary of the event\n",
    "            timeline: timeline of the event\n",
    "            update: one sentence summary of the update from the previous plan\n",
    "    \"\"\"\n",
    "    response = _update_plan(goal, plan, evaluation)\n",
    "    return json.loads(response)"
   ]
  },
  {
   "cell_type": "code",
   "execution_count": null,
   "id": "cd6849cc-7398-4005-bf4e-670601a77da3",
   "metadata": {
    "tags": []
   },
   "outputs": [],
   "source": [
    "def _evaluate_plan(goal, plan):\n",
    "    system_instruction = '''\n",
    "You are a professional event planner. Work on the following tasks.\n",
    "\n",
    "[task]\n",
    "A. given [goal] and [plan] for event contents, evaluate if the plan is effective to achieve the goal.\n",
    "B. Also give 3 ideas to improve the plan.\n",
    "\n",
    "[condition]\n",
    "A. Event contents should include detailed descriptions.\n",
    "\n",
    "[format instruction]\n",
    "In Japanese. No markdowns. The output has the following three items:\n",
    "\"evaluation\": three sentence evaluation of the plan.\n",
    "\"improvements\": a list of 3 ideas to improve the plan. Each idea is in a single sentence.\n",
    "'''\n",
    "\n",
    "    response_schema = {\n",
    "        \"type\": \"object\",\n",
    "        \"properties\": {\n",
    "            \"evaluation\": {\"type\": \"string\"},\n",
    "            \"improvements\": {\n",
    "                \"type\": \"array\",\n",
    "                \"items\": {\n",
    "                    \"type\": \"object\",\n",
    "                    \"properties\": {\n",
    "                        \"idea\": {\"type\": \"string\"},\n",
    "                    },\n",
    "                    \"required\": [\"idea\"],\n",
    "                },\n",
    "            },\n",
    "        },\n",
    "        \"required\": [\"evaluation\", \"improvements\"],\n",
    "    }\n",
    "\n",
    "    parts = []\n",
    "    parts.append(Part.from_text(text=f'[goal]\\n{goal}'))\n",
    "    parts.append(Part.from_text(text=f'[plan]\\n{plan}'))\n",
    "    contents=[Content(role='user', parts=parts)]\n",
    "    return generate_response(system_instruction, contents, response_schema)\n",
    "\n",
    "\n",
    "def evaluate_plan(goal:str, plan:str) -> dict:\n",
    "    \"\"\"\n",
    "    Generate an evaluation for the plan against the goal.\n",
    "\n",
    "    Args:\n",
    "        goal: The goal of the event\n",
    "        plan: Current plan\n",
    "       \n",
    "    Returns:\n",
    "        dict: A dictionary containing the evaluation comment with the following keys:\n",
    "            evaluation: evaluation comment\n",
    "            improvements: list of ideas for improvements\n",
    "    \"\"\"\n",
    "    response = _evaluate_plan(goal, plan)\n",
    "    return json.loads(response)"
   ]
  },
  {
   "cell_type": "code",
   "execution_count": null,
   "id": "67bbfc96-c6ab-4bf2-a257-64f3da482fbd",
   "metadata": {
    "tags": []
   },
   "outputs": [],
   "source": [
    "goal = 'クラウドネイティブなアプリ開発企業の新入社員歓迎イベントを11:00-14:00の180分の構成で考える'\n",
    "plan = generate_plan(goal)\n",
    "pprint.pp(plan)"
   ]
  },
  {
   "cell_type": "code",
   "execution_count": null,
   "id": "ea29be00-7d0d-4d09-a3c4-042276399a6d",
   "metadata": {
    "tags": []
   },
   "outputs": [],
   "source": [
    "evaluation = evaluate_plan(goal, plan)\n",
    "pprint.pp(evaluation)"
   ]
  },
  {
   "cell_type": "code",
   "execution_count": null,
   "id": "e439d4a6-2932-40ea-9df2-43af51036d6b",
   "metadata": {
    "tags": []
   },
   "outputs": [],
   "source": [
    "plan2 = update_plan(goal, plan, json.dumps(evaluation))\n",
    "pprint.pp(plan2)"
   ]
  },
  {
   "cell_type": "code",
   "execution_count": null,
   "id": "3b2ba327-d1e2-4091-96e8-6c2be6305434",
   "metadata": {
    "tags": []
   },
   "outputs": [],
   "source": [
    "from google.adk.agents.llm_agent import LlmAgent\n",
    "from google.adk.artifacts import InMemoryArtifactService\n",
    "from google.adk.memory.in_memory_memory_service import InMemoryMemoryService\n",
    "from google.adk.runners import Runner\n",
    "from google.adk.sessions import InMemorySessionService"
   ]
  },
  {
   "cell_type": "code",
   "execution_count": null,
   "id": "ddcfe340-78fa-46de-b868-0d99eb585b7d",
   "metadata": {
    "tags": []
   },
   "outputs": [],
   "source": [
    "instruction = \"\"\"\n",
    "    You are an agent who handles event contents.\n",
    "    Your outputs should be in Japanese without markdown.\n",
    "    \n",
    "    **Interaction flow:**\n",
    "\n",
    "    1.  Initial plan:\n",
    "        * When you receive a goal of the event, you should first generate an initial plan using generate_plan().\n",
    "\n",
    "    2. Present the plan and ask for evaluation:\n",
    "        * Present the plan to the user, and ask the evaluation and improvement ideas.\n",
    "            - Show in a human readable format.\n",
    "\n",
    "    3. (Optional) Get an evaluation from 主任\n",
    "        * If the user requests to get an evaluation from \"主任\", get an evaluation using evaluate_plan()\n",
    "            - Present the result to the user in a human readable format, and ask if the user accept it or not.\n",
    "        * If the user accept it, go to step 4.\n",
    "            - When a user say something affirmative, think about if it means to accept 主任's evaluation, or other things.\n",
    "\n",
    "    4. Upadate plan:\n",
    "        * Once you get an evaluation from the user or \"主任\", generate an updated plan using update_plan().\n",
    "        * Go back to step 2.\n",
    "\"\"\"\n",
    "\n",
    "planning_client_agent = LlmAgent(\n",
    "    model='gemini-2.0-flash-001',\n",
    "    name='planning_client_agent',\n",
    "    description=(\n",
    "        'This agent creates and updates event contents given the goal of the event.'\n",
    "    ),\n",
    "    instruction=instruction,\n",
    "    tools=[\n",
    "        generate_plan,\n",
    "        update_plan,\n",
    "        evaluate_plan,\n",
    "    ],\n",
    ")"
   ]
  },
  {
   "cell_type": "code",
   "execution_count": null,
   "id": "985343f6-bf24-48ef-ac7c-0aaa8b504605",
   "metadata": {
    "tags": []
   },
   "outputs": [],
   "source": [
    "class LocalApp:\n",
    "    def __init__(self, agent, user_id='default_user'):\n",
    "        self._agent = agent\n",
    "        self._user_id = user_id\n",
    "        self._runner = Runner(\n",
    "            app_name=self._agent.name,\n",
    "            agent=self._agent,\n",
    "            artifact_service=InMemoryArtifactService(),\n",
    "            session_service=InMemorySessionService(),\n",
    "            memory_service=InMemoryMemoryService(),\n",
    "        )\n",
    "        self._session = None\n",
    "        \n",
    "    async def stream(self, query):\n",
    "        if not self._session:\n",
    "            self._session = await self._runner.session_service.create_session(\n",
    "                app_name=self._agent.name,\n",
    "                user_id=self._user_id,\n",
    "                session_id=uuid.uuid4().hex,\n",
    "            )\n",
    "        content = Content(role='user', parts=[Part.from_text(text=query)])\n",
    "        async_events = self._runner.run_async(\n",
    "            user_id=self._user_id,\n",
    "            session_id=self._session.id,\n",
    "            new_message=content,\n",
    "        )\n",
    "        result = []\n",
    "        async for event in async_events:\n",
    "            if DEBUG:\n",
    "                print(f'----\\n{event}\\n----')\n",
    "            if (event.content and event.content.parts):\n",
    "                response = '\\n'.join([p.text for p in event.content.parts if p.text])\n",
    "                if response:\n",
    "                    print(response)\n",
    "                    result.append(response)\n",
    "        return result"
   ]
  },
  {
   "cell_type": "code",
   "execution_count": null,
   "id": "cd49100f-660e-4005-b318-22d60e4a58c1",
   "metadata": {
    "tags": []
   },
   "outputs": [],
   "source": [
    "client = LocalApp(planning_client_agent)"
   ]
  },
  {
   "cell_type": "code",
   "execution_count": null,
   "id": "eb483ea1-ef58-40f1-ae74-9dfec3451fe7",
   "metadata": {
    "tags": []
   },
   "outputs": [],
   "source": [
    "DEBUG = False\n",
    "query = 'クラウドネイティブなアプリ開発企業の新入社員歓迎イベントを11:00-14:00の180分の構成で考えて'\n",
    "_ = await client.stream(query)"
   ]
  },
  {
   "cell_type": "code",
   "execution_count": null,
   "id": "8e905cdc-adbd-45ea-a7e9-9cfb50721284",
   "metadata": {
    "tags": []
   },
   "outputs": [],
   "source": [
    "query = '主任の意見を聞きたい'\n",
    "_ = await client.stream(query)"
   ]
  },
  {
   "cell_type": "code",
   "execution_count": null,
   "id": "fd0468e3-7e9d-471b-9838-e982ec48230b",
   "metadata": {
    "tags": []
   },
   "outputs": [],
   "source": [
    "query = 'そうします。'\n",
    "_ = await client.stream(query)"
   ]
  },
  {
   "cell_type": "code",
   "execution_count": null,
   "id": "e5eff2bf-b742-41a1-b6ca-3c4ab4628720",
   "metadata": {
    "tags": []
   },
   "outputs": [],
   "source": [
    "query = 'ランチ中は、会話のきっかけになるようなプロジェクト紹介の動画を流して欲しい。先輩のメッセージは30分で十分'\n",
    "_ = await client.stream(query)"
   ]
  },
  {
   "cell_type": "code",
   "execution_count": null,
   "id": "599ad2f4-75e0-4dff-aadf-8f769c413b79",
   "metadata": {
    "tags": []
   },
   "outputs": [],
   "source": [
    "query = 'ばっちぐー'\n",
    "_ = await client.stream(query)"
   ]
  },
  {
   "cell_type": "code",
   "execution_count": null,
   "id": "7f1527a1-3eb5-46cd-bedd-d2cb37086d2e",
   "metadata": {
    "tags": []
   },
   "outputs": [],
   "source": [
    "from vertexai import agent_engines\n",
    "\n",
    "remote_agent = agent_engines.create(\n",
    "    agent_engine=planning_client_agent,\n",
    "    display_name='planning_client_agent',\n",
    "    requirements=[\n",
    "        'google-adk==1.2.1',\n",
    "    ]\n",
    ")"
   ]
  },
  {
   "cell_type": "code",
   "execution_count": null,
   "id": "acda82bb-f082-4c8d-9e45-e365ae8ddc2e",
   "metadata": {
    "tags": []
   },
   "outputs": [],
   "source": [
    "class RemoteApp:\n",
    "    def __init__(self, remote_agent, user_id='default_user'):\n",
    "        self._remote_agent = remote_agent\n",
    "        self._user_id = user_id\n",
    "        self._session = remote_agent.create_session(user_id=self._user_id)\n",
    "    \n",
    "    def _stream(self, query):\n",
    "        events = self._remote_agent.stream_query(\n",
    "            user_id=self._user_id,\n",
    "            session_id=self._session['id'],\n",
    "            message=query,\n",
    "        )\n",
    "        result = []\n",
    "        for event in events:\n",
    "            if DEBUG:\n",
    "                print(f'----\\n{event}\\n----')\n",
    "            if ('content' in event and 'parts' in event['content']):\n",
    "                response = '\\n'.join(\n",
    "                    [p['text'] for p in event['content']['parts'] if 'text' in p]\n",
    "                )\n",
    "                if response:\n",
    "                    print(response)\n",
    "                    result.append(response)\n",
    "        return result\n",
    "\n",
    "    def stream(self, query):\n",
    "        # Retry 4 times in case of resource exhaustion\n",
    "        for c in range(4):\n",
    "            if c > 0:\n",
    "                time.sleep(2**(c-1))\n",
    "            result = self._stream(query)\n",
    "            if result:\n",
    "                return result\n",
    "            if DEBUG:\n",
    "                print('----\\nRetrying...\\n----')\n",
    "        return None # Permanent error"
   ]
  },
  {
   "cell_type": "code",
   "execution_count": null,
   "id": "d3927631-bca5-4fe0-b906-b181380b0607",
   "metadata": {
    "tags": []
   },
   "outputs": [],
   "source": [
    "client = RemoteApp(remote_agent)"
   ]
  },
  {
   "cell_type": "code",
   "execution_count": null,
   "id": "c39aafb6-3893-4993-8010-95f5627ebfab",
   "metadata": {
    "tags": []
   },
   "outputs": [],
   "source": [
    "DEBUG = False\n",
    "query = 'クラウドネイティブなアプリ開発企業の新入社員歓迎イベントを11:00-14:00の180分の構成で考えて'\n",
    "_ = client.stream(query)"
   ]
  },
  {
   "cell_type": "code",
   "execution_count": null,
   "id": "4c35956b-65d4-4e14-9c5c-c9421a484834",
   "metadata": {
    "tags": []
   },
   "outputs": [],
   "source": [
    "query = '主任の意見を聞きたい'\n",
    "_ = client.stream(query)"
   ]
  },
  {
   "cell_type": "code",
   "execution_count": null,
   "id": "b443c06c-0fa8-421c-8394-d4f2dd5ccdaf",
   "metadata": {
    "tags": []
   },
   "outputs": [],
   "source": [
    "for agent in agent_engines.list():\n",
    "    print(agent.gca_resource.name)"
   ]
  },
  {
   "cell_type": "code",
   "execution_count": null,
   "id": "cf898c7e-bcca-4981-a1d0-961bd0546805",
   "metadata": {
    "tags": []
   },
   "outputs": [],
   "source": [
    "for agent in agent_engines.list():\n",
    "    print(agent.gca_resource.name)\n",
    "    agent.delete(force=True)"
   ]
  },
  {
   "cell_type": "code",
   "execution_count": null,
   "id": "4a66e1dc-0ff9-46b9-bbf4-a7068c648d12",
   "metadata": {},
   "outputs": [],
   "source": []
  }
 ],
 "metadata": {
  "environment": {
   "kernel": "conda-base-py",
   "name": "workbench-notebooks.m129",
   "type": "gcloud",
   "uri": "us-docker.pkg.dev/deeplearning-platform-release/gcr.io/workbench-notebooks:m129"
  },
  "kernelspec": {
   "display_name": "Python 3 (ipykernel) (Local) (Local)",
   "language": "python",
   "name": "conda-base-py"
  },
  "language_info": {
   "codemirror_mode": {
    "name": "ipython",
    "version": 3
   },
   "file_extension": ".py",
   "mimetype": "text/x-python",
   "name": "python",
   "nbconvert_exporter": "python",
   "pygments_lexer": "ipython3",
   "version": "3.10.16"
  }
 },
 "nbformat": 4,
 "nbformat_minor": 5
}
